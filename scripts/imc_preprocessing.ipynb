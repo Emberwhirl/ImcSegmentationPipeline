{
 "cells": [
  {
   "cell_type": "code",
   "execution_count": 1,
   "metadata": {},
   "outputs": [
    {
     "name": "stderr",
     "output_type": "stream",
     "text": [
      "/home/vitoz/miniconda2/envs/imctools/lib/python3.6/importlib/_bootstrap.py:219: RuntimeWarning: numpy.dtype size changed, may indicate binary incompatibility. Expected 96, got 88\n",
      "  return f(*args, **kwds)\n",
      "/home/vitoz/miniconda2/envs/imctools/lib/python3.6/importlib/_bootstrap.py:219: RuntimeWarning: numpy.dtype size changed, may indicate binary incompatibility. Expected 96, got 88\n",
      "  return f(*args, **kwds)\n",
      "/home/vitoz/miniconda2/envs/imctools/lib/python3.6/importlib/_bootstrap.py:219: RuntimeWarning: numpy.dtype size changed, may indicate binary incompatibility. Expected 96, got 88\n",
      "  return f(*args, **kwds)\n"
     ]
    }
   ],
   "source": [
    "import imctools.scripts.pipeline.configuration as configuration\n",
    "import imctools.scripts.pipeline.steps as steps"
   ]
  },
  {
   "cell_type": "code",
   "execution_count": 2,
   "metadata": {},
   "outputs": [],
   "source": [
    "import os\n",
    "import re\n",
    "import zipfile\n",
    "import sys"
   ]
  },
  {
   "cell_type": "code",
   "execution_count": 3,
   "metadata": {},
   "outputs": [],
   "source": [
    "from ruamel.yaml import YAML"
   ]
  },
  {
   "cell_type": "code",
   "execution_count": 4,
   "metadata": {},
   "outputs": [
    {
     "name": "stdout",
     "output_type": "stream",
     "text": [
      "Modules to reload:\n",
      "imctools.scripts.pipeline.configuration imctools.scripts.pipeline.steps\n",
      "\n",
      "Modules to skip:\n",
      "\n"
     ]
    }
   ],
   "source": [
    "# This should be removed in the final version\n",
    "%load_ext autoreload\n",
    "%autoreload 1\n",
    "%aimport imctools.scripts.pipeline.steps\n",
    "%aimport imctools.scripts.pipeline.configuration\n",
    "%aimport"
   ]
  },
  {
   "cell_type": "markdown",
   "metadata": {},
   "source": [
    "\n",
    "# The IMC preprocessing pipeline for multiplexed image analysis\n"
   ]
  },
  {
   "cell_type": "markdown",
   "metadata": {},
   "source": [
    "This is a pipeline to segment IMC data using Ilastik pixel classification as well as CellProfiler.\n",
    "\n",
    "It requires:\n",
    "- CellProfiler 3.1.5: http://cellprofiler.org/releases/\n",
    "- Ilastik: http://ilastik.org/\n",
    "- The following Github repositories:\n",
    "    => Either Clone (e.g. using command line git or the github deskop client: https://desktop.github.com/) OR download and unzip these repositories to a local folder:\n",
    "    - ImcPluginsCP plugins of the development branch: develop-cp3, https://github.com/BodenmillerGroup/ImcPluginsCP/tree/develop-cp3\n",
    "          - This repository contains additional CellProfiller modules.\n",
    "          - **In the preferences of CellProfiller point the CellProfiler Plugins folder to `ImcPluginsCP/plugins`**\n",
    "      \n",
    "    - The ImcSegmentationPipeline repository: https://github.com/BodenmillerGroup/\n",
    "        - contains the conda environment that you will use bellow in the `setup` folder\n",
    "        - contains the CellProfiler pipelines to be used\n",
    "\n",
    "\n",
    "- Install the `imctools` conda environment\n",
    "    - If you have already an older version of this installed, please uninstall it first\n",
    " \n",
    "    - To install the `imctools` envrionment:\n",
    "        -> Install conda: https://www.anaconda.com/download/#linux\n",
    "        -> The conda environment file is found in  `ImcSegmentationPipeline/Setup/conda_imctools.yml`\n",
    "        -> On a conda console type: `conda env create -f PATHTO/conda_imctools.yml` OR use the Anaconda GUI -> Environments -> Import -> choose `setup/conda_imctools.yml`\n",
    "        -> Start a Jupyter notebook instance *in this conda environment* and open this script: \n",
    "            -`conda activate imctools`\n",
    "            -`conda jupyter notebook`\n",
    "            - OR in the GUI: choose the `imctools` environment, start `Jupyter Notebook`\n",
    "            - open the `ImcSegmentationPipeline/scripts/imc_preprocessing.ipynb`\n",
    "            - Execute the script cell by cell using `shift-enter`\n",
    "\n",
    "- If compensation should be done (https://www.cell.com/cell-systems/abstract/S2405-4712(18)30063-2), the following additional requirements are needed:\n",
    "    - A spillover matrix specific to the isotope lots used for antibody conjugation\n",
    "        - Use the experimental protocol of:https://docs.google.com/document/d/195eViUqHoYRKrkoy_NkIdJPmyx1-OuDaSjiWQBy4weA/edit\n",
    "            -> Will result in a spillovermatrix in `.csv` format.\n",
    "        - Clone the Github repository: \n",
    "        - R > 3.5 (https://cran.r-project.org/bin/windows/base/)\n",
    "        - Rstudio: https://www.rstudio.com/products/rstudio/download/\n",
    "        - CATALYST >= 1.4.2: https://bioconductor.org/packages/release/bioc/html/CATALYST.html\n",
    "        - 'tiff' R library: run `install.packages('tiff')`\n",
    "\n",
    "\n",
    "- Data requirements:\n",
    "    - This scripts assume that *each `.mcd`  acquisition and all `.txt` files corresponding to this '.mcd' acquisition* are saved in one a seperate `.zip` folder.\n",
    "        -> This is my recomended data format as it preserves and contains all original metadata and enforces a consistent naming scheme.\n",
    "    - see the example files that are downloaded bellow for an example\n",
    "\n",
    "Note that the `description` image name can be found in the `..._Acquisition_meta.csv` generated together with the ome tiffs as well as in the `cpout` folder later in the script.\n",
    "After analysis the `Image.csv` metadata file generated in Cellprofiller will also contain the `Description` as well as other important metadata for each \n",
    "image, such as acquisition frequency, time, location etc.\n",
    "\n",
    "For working with `.txt` files only, please look at the older examples.\n",
    "\n",
    "For any feedback please contact: Vito, vito.zanotelli@uzh.ch or even better raise an issue on this Github page!"
   ]
  },
  {
   "cell_type": "markdown",
   "metadata": {},
   "source": [
    "### Input folders (Needs to be adapted for use)"
   ]
  },
  {
   "cell_type": "code",
   "execution_count": 5,
   "metadata": {},
   "outputs": [],
   "source": [
    "fn_config = '../config/config_pipeline.yml'"
   ]
  },
  {
   "cell_type": "code",
   "execution_count": 6,
   "metadata": {},
   "outputs": [
    {
     "name": "stdout",
     "output_type": "stream",
     "text": [
      "Overwriting ../config/config_pipeline.yml\n"
     ]
    }
   ],
   "source": [
    "%%file $fn_config\n",
    "# %load configuration.conf_str\n",
    "\n",
    "# This section specifies the input files.\n",
    "input_files:\n",
    "    # This defines a list of folders  where to look for input files which must be zip files\n",
    "    # containing each 1 .mcd file together with (optionally)  all the .txt files of this\n",
    "    # acquisition session.\n",
    "    folders: ['../example_data']\n",
    "    # This regular expression can be used to further select .zip files for processing\n",
    "    file_regexp: '.zip'\n",
    "\n",
    "# This section defines the output folders\n",
    "output_folders:\n",
    "    # This indicates the base folder for all the output subfolders:\n",
    "    base: '/home/vitoz/Data/Analysis/201811_icp_segmentation_example4'\n",
    "    subfolders:\n",
    "        # The ome subfolder contains all the acquisitions as ometiffs together with the\n",
    "        # metadata in .csv format.\n",
    "        ome: 'ometiff'\n",
    "        # The cpout subfolder will contain the final cellprofiler output.\n",
    "        cpout: 'cpout'\n",
    "        # The analysis subfolder will contain all the .zip files that are used for analysis.\n",
    "        analysis: 'analysis'\n",
    "        # The ilastik folder will contain all the .hd5 files used for Ilastik Pixel classification.\n",
    "        ilastik: 'ilastik'\n",
    "        # The uncertainty folder can contain the uncertainties that can be generated from the\n",
    "        # probabiprobabilities from the Ilastik pixel classification.\n",
    "        uncertainty: 'uncertainty'\n",
    "        # The Histocat folder will contain the images in the HistoCat folder structure.\n",
    "        histocat: 'histocat'\n",
    "\n",
    "# This configuration saves different substacks of the acquired images in a format compatible for\n",
    "# analanalysis with CellProfiler and Ilastik.\n",
    "analysis_stack_generation:\n",
    "    # The pannel is a CSV file with a column representing the metal tag and a column containing\n",
    "    # boolean (0/1) values which channels to select for the different stacks.\n",
    "    pannel:\n",
    "        # The filename of the pannel .csv file\n",
    "        csv_filename: '../config/example_pannel.csv'\n",
    "        # The name of the column containing the metal tag\n",
    "        metal_column: 'Metal Tag'\n",
    "    # An arbitrary number of stacks can be defined. Classically a 'full' stack is defined,\n",
    "    # containing all the channels(=metals) that should be measured using CellProfiler as well as\n",
    "    # an 'ilastik' stack, containing only a subset of channels that contain information for the\n",
    "    # pixelpixel classification used for segmentation.\n",
    "    stacks:\n",
    "        # The stack name indicated the name of the stack to be generated\n",
    "        - stack_name: 'full'\n",
    "          # The stack column is the column that contains the boolean selection for the channels to\n",
    "          # be used for this stack\n",
    "          csv_column: 'full'\n",
    "          # The suffix is added to the filename before the file ending and is used to identify the\n",
    "          # stack in the later analysis.\n",
    "          suffix: '_full'\n",
    "\n",
    "        - stack_name: 'ilastik'\n",
    "          csv_column: 'ilastik'\n",
    "          suffix: '_ilastik'\n",
    "          # With aditional stack parameters, keyword arguments used by the ometiff_2_analysis script\n",
    "          additional_parameters:\n",
    "            # A commonly used one parameter to set is 'addsum', which will add the sum of all channels of the stack as\n",
    "            # first channel of the stack, which is convenient for forground/background\n",
    "            # discrimination in pixel classification.\n",
    "            addsum: True\n"
   ]
  },
  {
   "cell_type": "code",
   "execution_count": 7,
   "metadata": {},
   "outputs": [],
   "source": [
    "conf = configuration.load_config(fn_config)"
   ]
  },
  {
   "cell_type": "code",
   "execution_count": 8,
   "metadata": {},
   "outputs": [],
   "source": [
    "steps.initialize_folderstructure(config=conf)"
   ]
  },
  {
   "cell_type": "markdown",
   "metadata": {},
   "source": [
    "### Convert zipped IMC acquisitions to input format\n",
    "\n",
    "This script works with zipped IMC acquisitions:\n",
    "Each acquisition session = (1 mcd file) should be zipped in a folder containing:\n",
    "- The `.mcd` file\n",
    "- All associated `.txt` file generated during the acquisition of this `.mcd` file -> Don't change any of the filenames!!"
   ]
  },
  {
   "cell_type": "code",
   "execution_count": 9,
   "metadata": {},
   "outputs": [],
   "source": [
    "steps.convert_rawzip_to_ome(conf)"
   ]
  },
  {
   "cell_type": "markdown",
   "metadata": {},
   "source": [
    "Generate a csv with all the acquisition metadata"
   ]
  },
  {
   "cell_type": "code",
   "execution_count": 10,
   "metadata": {},
   "outputs": [],
   "source": [
    "steps.exportacquisitionmetadata(conf)"
   ]
  },
  {
   "cell_type": "markdown",
   "metadata": {},
   "source": [
    "Generate the analysis stacks"
   ]
  },
  {
   "cell_type": "code",
   "execution_count": 11,
   "metadata": {},
   "outputs": [
    {
     "name": "stdout",
     "output_type": "stream",
     "text": [
      "20170905_Fluidigmworkshopfinal_SEAJa_s0_p1_r3_a3_ac.ome.tiff\n",
      "20170905_Fluidigmworkshopfinal_SEAJa_s0_p3_r7_a7_ac.ome.tiff\n",
      "20170905_Fluidigmworkshopfinal_SEAJa_s0_p2_r5_a5_ac.ome.tiff\n",
      "20170905_Fluidigmworkshopfinal_SEAJa_s0_p0_r1_a1_ac.ome.tiff\n",
      "20170905_Fluidigmworkshopfinal_SEAJa_s0_p0_r0_a0_ac.ome.tiff\n",
      "20170905_Fluidigmworkshopfinal_SEAJa_s0_p1_r2_a2_ac.ome.tiff\n",
      "20170905_Fluidigmworkshopfinal_SEAJa_s0_p2_r4_a4_ac.ome.tiff\n",
      "20170905_Fluidigmworkshopfinal_SEAJa_s0_p3_r6_a6_ac.ome.tiff\n",
      "20170906_FluidigmONfinal_SE_s0_p2_r3_a3_ac.ome.tiff\n",
      "20170906_FluidigmONfinal_SE_s0_p3_r6_a6_ac.ome.tiff\n",
      "20170906_FluidigmONfinal_SE_s0_p4_r4_a4_ac.ome.tiff\n",
      "20170906_FluidigmONfinal_SE_s0_p1_r1_a1_ac.ome.tiff\n",
      "20170906_FluidigmONfinal_SE_s0_p4_r5_a5_ac.ome.tiff\n",
      "20170906_FluidigmONfinal_SE_s0_p3_r7_a7_ac.ome.tiff\n",
      "20170906_FluidigmONfinal_SE_s0_p2_r2_a2_ac.ome.tiff\n",
      "20170906_FluidigmONfinal_SE_s0_p1_r0_a0_ac.ome.tiff\n"
     ]
    }
   ],
   "source": [
    "steps.generate_analysisstacks(conf)"
   ]
  },
  {
   "cell_type": "markdown",
   "metadata": {},
   "source": [
    "Convert ome.tiffs to a HistoCAT compatible format, e.g. to do some visualization and channel checking."
   ]
  },
  {
   "cell_type": "raw",
   "metadata": {},
   "source": [
    "%%time\n",
    "if not(os.path.exists(folder_histocat)):\n",
    "    os.makedirs(folder_histocat)\n",
    "for fol in os.listdir(folder_ome):\n",
    "    ome2micat.omefolder2micatfolder(os.path.join(folder_ome,fol), folder_histocat, dtype='uint16')\n"
   ]
  },
  {
   "cell_type": "markdown",
   "metadata": {},
   "source": [
    "# Next steps\n",
    "\n",
    "This concludes the conversion of the IMC rawdata into usable TIFFs.\n",
    "\n",
    "The pipelines can be found in the `cp3_pipeline` folder in this repository. They were tested in `cellprofiler 3.1.5`.\n",
    "\n",
    "The next steps are:\n",
    "\n",
    "### A) Cellprofiler: 1_prepare_ilastik\n",
    "\n",
    "In this module we prepare the data for Ilastik pixel classification, by first removing strong outlier pixels, then scaling the images 2x and then taking random 500x500 crops to do the train the pixel classifier.\n",
    "\n",
    "The following parts of this module need to be adapted:\n",
    "\n",
    "1) File list: choose all files in the `tiff` subfolder\n",
    "\n",
    "2) Default Output Folder: Choose the `ilastik` subfolder\n",
    "\n",
    "No further parts need to be adapted.\n",
    "In our 16 core computer this step takes ca 5 min for the example dataset.\n",
    "\n",
    "\n",
    "### B) Ilatik: Train a pixel classifier\n",
    "\n",
    "This uses the random crops generated in the last step.\n",
    "\n",
    "1) Make a new `pixel classification project`. Save the project file in the `ilastik` subfolder.\n",
    "\n",
    "2) Add the `.h5` random crops: Raw data -> Add Seperate Images -> Select all `.h5` images in the `ilastik` subfolder.\n",
    "\n",
    "3) Proceed to `Feature Selection`\n",
    "\n",
    "4) Select suitable features (or just everythin > 1 pixels)\n",
    "\n",
    "5) Proceed to the classification:\n",
    "    - Add 3 labels:\n",
    "        - 1: Nuclei\n",
    "        - 2: Cytoplasma/membrane\n",
    "        - 3: Background\n",
    "        - -> For large datasets adding the labels can take a while\n",
    "    - Start labeling: \n",
    "        - The box next to `Input Data` can change the channels. What each channel corresponds to can be seen when looking in any of the `..._ilastik.csv` files in the `tiff` folder. The 0 channel correspond to the sum of all channels, very usefull to label the background.\n",
    "        - Use window leveling change the contrast. Right click on the `Input Data` -> `Adjust Thresholds` is also very usefull\n",
    "        - Label opiniated: If you see in the nucleus channel that two nuclei are stuck together but have a faint dip in intensity in between, label this as 2: Cytoplasma. Encyrcle nuclei with Cytoplasma\n",
    "        - Diseable `Live Update` for performance\n",
    "        - Frequently check the `Uncertainties`: This indicates which pixels the classifier profits most if they are labeled. A well trained classifier has low uncertainty within class regions (e.g. Nuclei) and high uncertainty at class borders (e.g. between nuclei and cytoplasma).\n",
    "        \n",
    "6) If you think the classifier is well trained, export the probabilities:\n",
    "        - Export Settings -> Source: Probabilities -> Choose Export Image Settings:\n",
    "            - Convert to datatype: Unsigned Integer 16 bit\n",
    "            - Renormalize: check\n",
    "            - Format: Tiff\n",
    "            - File: leave default\n",
    "        - Export all: This generates `_Probabilities.tiff` in the `ilastik` folder. They can be checked using any image viewer\n",
    "            - To generate uncertainty maps (good to identify regions that need training),\n",
    "            run the `Convert probabilities to uncertainties` section `#For training` below. This will put uncertainties in the uncertainty folder.\n",
    "            -> Well trained classifiers have low uncertainty (transparent) everywhere but at class borders which should be white.\n",
    "            \n",
    "        - Optional: Train again regions with high uncertainty, then proceed.\n",
    "        \n",
    "7) If you think that you are finished with classification, you need to apply the classifier to your whole dataset usingBatch processing:\n",
    "        - Make sure the Export Settings are still the same as in the step 6), then go to the 'Batch Processing' step in ilastik.\n",
    "        - Select raw data files -> select all `_s2.h5` files in the `tiff` folder. (sort by filetype, select all `H5` files).\n",
    "        => This step takes a while and is computationally intensive!\n",
    "        => Ca 15 min on 10 cores on the example data\n",
    "            \n",
    "        - Optional: use the below probability to uncertainty `#For the data` to convert all proabilities to uncertainties, check if there are any regions of high uncertainty and optionally crop the corresponding image part in imagej and add it to the training data.\n",
    "        - Note: store the `ilastik` folder with all the random crops and the trained classifier for reproducibility reasons.\n",
    "        \n",
    "### C) Cellprofiler: 2_segment_ilastik\n",
    "\n",
    "This step will segment the probabilities into masks.\n",
    "\n",
    "Things to adapt:\n",
    "\n",
    "1) File list: choose again all files from the `tiffs` folder\n",
    "\n",
    "2) It is important to check the `IdentifyPrimaryObjects` step, if the segmentation settings are suitable!\n",
    "    This might vary strongly between cell/tissue/training and needs attention! Use the test mode and try various settings.\n",
    "    Also note the `smooth` step immediately before: This can be also removed, I just happen get good results with this additional step.\n",
    "    \n",
    "3) Also the `MeasureObjectSizeShape` combined with `FilterObjects` is just some personal preference of mine, feel free to change\n",
    "\n",
    "4) `IdentifySecondaryObjects`: Here th mask is expanded to the full cell.\n",
    "\n",
    "5) `Rescale objects`: note that our segmentation was done on 2x upscaled images, this scales the masks down again. Note that potentially also the nuclei mask could be scaled down and further exported and used.\n",
    "\n",
    "6) The `Default Output Path` does not need to be adapted for this module.\n",
    "\n",
    "\n",
    "Note1: Seperating mask generation from mask measurement adds modularity and is thus highly recommended, as generating masks is one of the most resource intensive steps.\n",
    "\n",
    "\n",
    "### D) Cellprofiler: 3_measure_mask\n",
    "\n",
    "This step is not necessary for `HistoCat` only analysis. If `HistoCat` should be used, use the `Generate the histocat folder with masks` section below.\n",
    "\n",
    "#### 3_measure_mask_basic\n",
    "\n",
    "This module measures without considering spillover correction.\n",
    "\n",
    "1) File list: choose again all files from the `tiffs` folder\n",
    "\n",
    "2) View Output settings: set the `Default output folder` to the `cpout` folder\n",
    "\n",
    "3) Metadata: update - this will automatically merge the mcd metadata .csv generated earlier in the script with your images.\n",
    "\n",
    "4) Names and types: click update\n",
    "\n",
    "5) `Measure Object Intensity Multichannel`: Adapt the channel numbers. Check the `_full.csv` files in the `tiffs` folder to see how many channels the stack have and adapt accordingly.\n",
    "\n",
    "6) `Measure Image Intensity Multichannel`: Adapt the channel numbers. Check the `_full.csv` files in the `tiffs` folder to see how many channels the stack have and adapt accordingly.\n",
    "\n",
    "Notes:\n",
    "- In this pipeline all the intesities are scaled by `1/(2**16)`\n",
    "- The mapping between channel number c1, c2, c3 corresponds to the position in the `_full.csv`s found in the `tiffs` folder.\n",
    "- The original acquisition description, acquisition frequencies etc can be found in the `Image.csv` output as `Metdata_...` columns.\n",
    "- This outputs a lot of measurements that are acutally of little interest - usually we only look at `meanintensity` per channel and cell.\n",
    "    To reduce the outputs, select in `Export To Spreadsheet` -> `Select Measurements to Export` -> Only the measurements you want (usually all Image measurements and only the `MeanIntensity` fullstack measurements).\n",
    "- The `FullStack` can also be not measured, as it is almost identical to the `FullStackFiltered`.\n",
    "\n",
    "#### 3_measure_mask_compensation\n",
    "This will do measurements and also single cell data compensation\n",
    "0) Run the script: https://github.com/BodenmillerGroup/cyTOFcompensation/blob/master/scripts/imc_adaptsm.Rmd in R:\n",
    "    - Adapt the path to the spillover matrix `fn_sm='.../path/to/sm/spillmat.csv'`. In this example data it can be found at:\n",
    "        `fn_sm = 'PATHTO/ImcSegmentationPipeline/config/20170707_example_spillmat.csv'`\n",
    "    - Choose any `_full.csv` file, generated during the `Generate analysis stacks` step in the output folder, for the `fn_imc_metals = '/path/to/anyfile_full.csv' `.\n",
    "        In this example this could be: `fn_imc_metals = 'PATHTO/tiffs/20170905_Fluidigmworkshopfinal_SEAJa_s0_p0_r0_a0_ac_full.csv'`\n",
    "    - Run the script and this will produce an `PATHTO/tiffs/imc_full_sm.tiff` file\n",
    "\n",
    "1) File list: choose again all files from the `tiffs` folder\n",
    "\n",
    "2) View Output settings: set the `Default output folder` to the `cpout` folder\n",
    "\n",
    "3) Metadata: update - this will automatically merge the mcd metadata .csv generated earlier in the script with your images.\n",
    "\n",
    "4) Names and types:  Make sure that in `NamesAndTypes` the `PATHTO/tiffs/imc_full_sm.tiff` file is selected, click update\n",
    "\n",
    "5) `Measure Object Intensity Multichannel`: Adapt the channel numbers. Check the `_full.csv` files in the `tiffs` folder to see how many channels the stack have and adapt accordingly.\n",
    "\n",
    "6) `Measure Image Intensity Multichannel`: Adapt the channel numbers. Check the `_full.csv` files in the `tiffs` folder to see how many channels the stack have and adapt accordingly.\n",
    "\n",
    "7) `CorrectSpilloverApply`: This will generate a corrected image stack, this can be used e.g. to do measurements of intensity distribution. For measurements of intensity it is however better to correct the measurement afterward using the `CorrectSpilloverMeasurement`.\n",
    "\n",
    "8) `CorrectSpilloverMeasurement`: Here the intensity measurement can be spillover corrected. Note that this makes only sense for linear combinations of intensity measurements such as `MeanIntensity` or `TotalIntensity`. For these it is more accurate to do this after measurement than doing it on the pixel level beforehand. Note that for things with non linear transformations as `MedianIntensity`, this will not result in valid results and these measurements should be done on beforehand corrected images from `CorrectSpilloverApply`."
   ]
  },
  {
   "cell_type": "markdown",
   "metadata": {},
   "source": [
    "## Convert probabilities to uncertainties"
   ]
  },
  {
   "cell_type": "code",
   "execution_count": null,
   "metadata": {},
   "outputs": [],
   "source": [
    "# For training\n",
    "for fn in os.listdir(folder_ilastik):\n",
    "    if fn.endswith(suffix_probablities+'.tiff'):\n",
    "        print(fn)\n",
    "        probablity2uncertainty.probability2uncertainty(os.path.join(folder_ilastik,fn), folder_uncertainty)"
   ]
  },
  {
   "cell_type": "code",
   "execution_count": null,
   "metadata": {},
   "outputs": [],
   "source": [
    "# For the data\n",
    "for fn in os.listdir(folder_analysis):\n",
    "    if fn.endswith(suffix_probablities+'.tiff'):\n",
    "        print(fn)\n",
    "        probablity2uncertainty.probability2uncertainty(os.path.join(folder_analysis,fn), folder_uncertainty)"
   ]
  },
  {
   "cell_type": "markdown",
   "metadata": {},
   "source": [
    "## Generate the histocat folder with masks"
   ]
  },
  {
   "cell_type": "code",
   "execution_count": null,
   "metadata": {},
   "outputs": [],
   "source": [
    "%%time\n",
    "for fol in os.listdir(folder_ome):\n",
    "    ome2micat.omefolder2micatfolder(os.path.join(folder_ome,fol), folder_histocat, \n",
    "                                         fol_masks=folder_analysis, mask_suffix=suffix_mask, dtype='uint16')\n"
   ]
  }
 ],
 "metadata": {
  "kernelspec": {
   "display_name": "Imctools test",
   "language": "python",
   "name": "imctools-test"
  },
  "language_info": {
   "codemirror_mode": {
    "name": "ipython",
    "version": 3
   },
   "file_extension": ".py",
   "mimetype": "text/x-python",
   "name": "python",
   "nbconvert_exporter": "python",
   "pygments_lexer": "ipython3",
   "version": "3.6.6"
  }
 },
 "nbformat": 4,
 "nbformat_minor": 2
}
